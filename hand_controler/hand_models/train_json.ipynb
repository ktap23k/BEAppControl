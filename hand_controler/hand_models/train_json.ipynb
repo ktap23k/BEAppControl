{
  "cells": [
    {
      "cell_type": "code",
      "execution_count": null,
      "metadata": {
        "id": "Z5EAKc9DwfCd"
      },
      "outputs": [],
      "source": [
        "from tensorflow import keras\n",
        "import json\n",
        "import os\n",
        "import numpy as np"
      ]
    },
    {
      "cell_type": "code",
      "source": [
        "from google.colab import drive\n",
        "drive.mount('/content/drive')"
      ],
      "metadata": {
        "colab": {
          "base_uri": "https://localhost:8080/"
        },
        "id": "m-P5ItRywkAV",
        "outputId": "e9b25e5b-0e18-4c2f-d422-db8c7b796af2"
      },
      "execution_count": null,
      "outputs": [
        {
          "output_type": "stream",
          "name": "stdout",
          "text": [
            "Mounted at /content/drive\n"
          ]
        }
      ]
    },
    {
      "cell_type": "code",
      "execution_count": null,
      "metadata": {
        "id": "ZP47a__NwfCf"
      },
      "outputs": [],
      "source": [
        "data_path = '/content/drive/MyDrive/archive_json/archive_json/ann_train_val'"
      ]
    },
    {
      "cell_type": "code",
      "execution_count": null,
      "metadata": {
        "id": "vdPlw9w0wfCf"
      },
      "outputs": [],
      "source": [
        "labels_change = {\n",
        "    'call': 0,\n",
        "    'dislike': 1,\n",
        "    'fist': 2,\n",
        "    'four': 3,\n",
        "    'like': 4,\n",
        "    'mute': 5,\n",
        "    'ok': 6,\n",
        "    'one': 7,\n",
        "    'plam': 8,\n",
        "    'peace_inverted': 9,\n",
        "    'peace': 10,\n",
        "    'rock': 11,\n",
        "    'stop_inverted': 12,\n",
        "    'stop': 13,\n",
        "    'three': 14,\n",
        "    'three2': 15,\n",
        "    'two_up_inverted': 16,\n",
        "    'two_up': 17\n",
        "}\n",
        "labels_list = [0, 1, 2, 3, 4, 5, 6, 7, 8, 9, 10, 11, 12, 13, 14, 15, 16, 17]\n",
        "change_lr = {\n",
        "    'right': 1,\n",
        "    'left': 2\n",
        "}\n",
        "lr_list = [1, 2]"
      ]
    },
    {
      "cell_type": "code",
      "execution_count": null,
      "metadata": {
        "colab": {
          "base_uri": "https://localhost:8080/"
        },
        "id": "1wVKObqdwfCi",
        "outputId": "65b13da1-5da1-49dc-cde7-9cd9f7140f20"
      },
      "outputs": [
        {
          "output_type": "stream",
          "name": "stdout",
          "text": [
            "check\n"
          ]
        },
        {
          "output_type": "execute_result",
          "data": {
            "text/plain": [
              "[[[0.6575845273904011, 0.3352201047796631],\n",
              "  [0.6409177215550115, 0.32360414887738465],\n",
              "  [0.6332512399292427, 0.3038313050418317],\n",
              "  [0.6454348817184032, 0.28706116825467465],\n",
              "  [0.6620394352435972, 0.27696871878120183],\n",
              "  [0.6358586558935859, 0.28703840563709615],\n",
              "  [0.6341957530669794, 0.26498378491272895],\n",
              "  [0.6352849590990315, 0.25157365621296285],\n",
              "  [0.6373779374426136, 0.23975156189808425],\n",
              "  [0.6513873062151827, 0.2888969770576113],\n",
              "  [0.6592167474895249, 0.2759067927855578],\n",
              "  [0.6555865780482357, 0.2889051342781153],\n",
              "  [0.6523061005512398, 0.29825291173844454],\n",
              "  [0.6657205495908953, 0.2929458961355388],\n",
              "  [0.6724570772856253, 0.2842820226289248],\n",
              "  [0.6643596456050842, 0.29867520263728736],\n",
              "  [0.6602963951929833, 0.3064621610826099],\n",
              "  [0.6787170188335221, 0.29919988836293215],\n",
              "  [0.6834041472652937, 0.290982398655585],\n",
              "  [0.675381186789233, 0.30162233342458245],\n",
              "  [0.6706561206614973, 0.3079005848377555],\n",
              "  [1.0, 2.0],\n",
              "  [0.6177995, 0.22977696],\n",
              "  [0.08110291, 0.11935337]],\n",
              " 7]"
            ]
          },
          "metadata": {},
          "execution_count": 69
        }
      ],
      "source": [
        "datas = []\n",
        "print('check')\n",
        "for path in os.listdir(data_path):\n",
        "    file = os.path.join(data_path, path)\n",
        "    with open(file, 'r') as f:\n",
        "        data = json.load(f)\n",
        "        for key in data.keys():\n",
        "            for i in data[key]['labels']:\n",
        "                if i!='no_gesture':\n",
        "                    index = data[key]['labels'].index(i)\n",
        "                    label = labels_change.get(data[key]['labels'][index])\n",
        "                    lr = change_lr.get(data[key]['leading_hand'])\n",
        "                    if len(data[key]['landmarks'][index]) == 21 and label in labels_list and \\\n",
        "                        len(data[key]['bboxes'][index]) ==4 and lr in lr_list:\n",
        "                        for check in data[key]['landmarks'][index]:\n",
        "                            check[0] = float(check[0])\n",
        "                            check[1] = float(check[1])\n",
        "                        bboxes = [float(i) for i in data[key]['bboxes'][index]]\n",
        "                        _data = data[key]['landmarks'][index]\n",
        "                        _data.append([float(data[key]['leading_conf']), float(lr)])\n",
        "                        _data.append(bboxes[:2])\n",
        "                        _data.append(bboxes[2:])\n",
        "                        datas.append([_data, label])\n",
        "\n",
        "np.random.shuffle(datas)\n",
        "datas[0]"
      ]
    },
    {
      "cell_type": "code",
      "execution_count": null,
      "metadata": {
        "colab": {
          "base_uri": "https://localhost:8080/"
        },
        "id": "6v1_lVCWwfCj",
        "outputId": "74716d85-f1fd-45fe-c4f4-559843ac08ff"
      },
      "outputs": [
        {
          "output_type": "execute_result",
          "data": {
            "text/plain": [
              "(475600,\n",
              " 7,\n",
              " array([[0.65758455, 0.3352201 ],\n",
              "        [0.6409177 , 0.32360414],\n",
              "        [0.63325125, 0.3038313 ],\n",
              "        [0.64543486, 0.28706115],\n",
              "        [0.66203946, 0.27696872],\n",
              "        [0.63585865, 0.28703842],\n",
              "        [0.63419574, 0.26498377],\n",
              "        [0.63528496, 0.25157365],\n",
              "        [0.6373779 , 0.23975156],\n",
              "        [0.65138733, 0.28889698],\n",
              "        [0.65921676, 0.2759068 ],\n",
              "        [0.6555866 , 0.28890514],\n",
              "        [0.6523061 , 0.2982529 ],\n",
              "        [0.6657205 , 0.2929459 ],\n",
              "        [0.6724571 , 0.28428203],\n",
              "        [0.6643596 , 0.2986752 ],\n",
              "        [0.6602964 , 0.30646217],\n",
              "        [0.678717  , 0.29919988],\n",
              "        [0.68340415, 0.2909824 ],\n",
              "        [0.6753812 , 0.30162233],\n",
              "        [0.67065614, 0.30790058],\n",
              "        [1.        , 2.        ],\n",
              "        [0.6177995 , 0.22977696],\n",
              "        [0.08110291, 0.11935337]], dtype=float32))"
            ]
          },
          "metadata": {},
          "execution_count": 70
        }
      ],
      "source": [
        "inputs = []\n",
        "labels = []\n",
        "for x, y in datas:\n",
        "    inputs.append(np.array([np.array(i, dtype=np.float32) for i in x]))\n",
        "    labels.append(y)\n",
        "\n",
        "inputs = np.array(inputs)\n",
        "labels = np.array(labels)   \n",
        "\n",
        "\n",
        "# inputs = tf.convert_to_tensor(inputs)\n",
        "# labels = tf.convert_to_tensor(labels)\n",
        "\n",
        "len(inputs), labels[0] ,inputs[0]"
      ]
    },
    {
      "cell_type": "code",
      "execution_count": null,
      "metadata": {
        "id": "aGHwAiAQwfCk"
      },
      "outputs": [],
      "source": [
        "from sklearn.model_selection import train_test_split\n",
        "X_train, X_test, y_train, y_test = train_test_split(inputs, labels, test_size = 0.3, random_state=0)"
      ]
    },
    {
      "cell_type": "code",
      "execution_count": null,
      "metadata": {
        "colab": {
          "base_uri": "https://localhost:8080/"
        },
        "id": "EEkLCEoDwfCk",
        "outputId": "5b2fd30b-781f-498e-9cbb-a6b5d789c7f4"
      },
      "outputs": [
        {
          "output_type": "execute_result",
          "data": {
            "text/plain": [
              "array([[[0.30107048, 0.54947186],\n",
              "        [0.33385834, 0.5320082 ],\n",
              "        [0.34481272, 0.50400376],\n",
              "        [0.31131557, 0.4760226 ],\n",
              "        [0.28074613, 0.4603039 ],\n",
              "        [0.3498916 , 0.4502597 ],\n",
              "        [0.37281144, 0.40889907],\n",
              "        [0.38572475, 0.38335603],\n",
              "        [0.39492562, 0.3593703 ],\n",
              "        [0.31744134, 0.44308242],\n",
              "        [0.3250716 , 0.39553267],\n",
              "        [0.3294859 , 0.36750466],\n",
              "        [0.3330412 , 0.34196648],\n",
              "        [0.2893431 , 0.44767985],\n",
              "        [0.28725675, 0.40603104],\n",
              "        [0.2904566 , 0.37996322],\n",
              "        [0.2922825 , 0.35548863],\n",
              "        [0.26370445, 0.46566072],\n",
              "        [0.2608055 , 0.4341734 ],\n",
              "        [0.2707734 , 0.44435143],\n",
              "        [0.28056288, 0.46093994],\n",
              "        [1.        , 1.        ],\n",
              "        [0.24079333, 0.32659572],\n",
              "        [0.1700434 , 0.2311545 ]],\n",
              "\n",
              "       [[0.24673335, 0.5698052 ],\n",
              "        [0.27630863, 0.5549059 ],\n",
              "        [0.29046834, 0.5258405 ],\n",
              "        [0.26278484, 0.5007546 ],\n",
              "        [0.23317745, 0.48845977],\n",
              "        [0.2892255 , 0.4875044 ],\n",
              "        [0.30286723, 0.4547129 ],\n",
              "        [0.3094214 , 0.43427974],\n",
              "        [0.31412947, 0.41571876],\n",
              "        [0.26124242, 0.48037854],\n",
              "        [0.26449278, 0.44252664],\n",
              "        [0.26570034, 0.4199378 ],\n",
              "        [0.26608393, 0.40102398],\n",
              "        [0.23701239, 0.48329398],\n",
              "        [0.22491857, 0.45025262],\n",
              "        [0.22099894, 0.42997938],\n",
              "        [0.21772286, 0.41328818],\n",
              "        [0.21621664, 0.49294022],\n",
              "        [0.20786665, 0.4732714 ],\n",
              "        [0.21103849, 0.47896853],\n",
              "        [0.21408185, 0.48735598],\n",
              "        [1.        , 1.        ],\n",
              "        [0.1907817 , 0.3885691 ],\n",
              "        [0.13934353, 0.1937799 ]],\n",
              "\n",
              "       [[0.47206226, 0.3344808 ],\n",
              "        [0.46782443, 0.31476665],\n",
              "        [0.45765778, 0.29922515],\n",
              "        [0.45128894, 0.28495848],\n",
              "        [0.45424432, 0.2730068 ],\n",
              "        [0.4186667 , 0.29621422],\n",
              "        [0.4000523 , 0.3107905 ],\n",
              "        [0.41201508, 0.31682023],\n",
              "        [0.42478535, 0.3178584 ],\n",
              "        [0.41253185, 0.30716443],\n",
              "        [0.40230405, 0.3224843 ],\n",
              "        [0.41544876, 0.32641333],\n",
              "        [0.42645428, 0.3265292 ],\n",
              "        [0.41106972, 0.3210295 ],\n",
              "        [0.40190256, 0.33311823],\n",
              "        [0.4153374 , 0.33614287],\n",
              "        [0.42807096, 0.335628  ],\n",
              "        [0.412857  , 0.33543378],\n",
              "        [0.3888159 , 0.3434375 ],\n",
              "        [0.37424102, 0.35056725],\n",
              "        [0.36145675, 0.35511413],\n",
              "        [1.        , 2.        ],\n",
              "        [0.35487103, 0.26539198],\n",
              "        [0.13069297, 0.09489078]]], dtype=float32)"
            ]
          },
          "metadata": {},
          "execution_count": 72
        }
      ],
      "source": [
        "X_train[:3]"
      ]
    },
    {
      "cell_type": "code",
      "source": [
        "import tensorflow as tf\n",
        "from tensorflow.keras.layers import Input, Dense, LSTM, Dropout\n",
        "from tensorflow.keras.models import Model\n"
      ],
      "metadata": {
        "id": "4FMiBlqjyJUP"
      },
      "execution_count": null,
      "outputs": []
    },
    {
      "cell_type": "code",
      "source": [
        "\n",
        "\n",
        "# Tạo tensor đầu vào\n",
        "inputs = tf.keras.Input(shape=(24,2))\n",
        "\n",
        "# Thêm lớp Flatten để chuyển tensor đầu vào thành một vector 1D\n",
        "x = tf.keras.layers.Flatten()(inputs)\n",
        "\n",
        "# Thêm các lớp ẩn với số đơn vị tăng dần và hàm kích hoạt ReLU\n",
        "x = tf.keras.layers.Dense(128, activation='relu')(x)\n",
        "x = tf.keras.layers.Dropout(0.2)(x) # Thêm lớp Dropout\n",
        "x = tf.keras.layers.Dense(256, activation='relu')(x)\n",
        "x = tf.keras.layers.Dropout(0.2)(x) # Thêm lớp Dropout\n",
        "x = tf.keras.layers.Dense(512, activation='relu')(x)\n",
        "x = tf.keras.layers.Dropout(0.2)(x) # Thêm lớp Dropout\n",
        "\n",
        "# Thêm lớp đầu ra với 18 đơn vị và hàm kích hoạt softmax\n",
        "outputs = tf.keras.layers.Dense(18, activation='softmax')(x)\n",
        "\n",
        "# Tạo mô hình với đầu vào và đầu ra\n",
        "model = tf.keras.Model(inputs=inputs, outputs=outputs)\n",
        "\n",
        "# Biên dịch mô hình với hàm mất mát categorical_crossentropy và thuật toán tối ưu Adam\n",
        "model.compile(loss='categorical_crossentropy', optimizer='adam', metrics=['accuracy'])\n",
        "\n",
        "# Đọc dữ liệu từ tập tin hoặc database và chia thành các tập train, validation và test\n",
        "# X_train, y_train, X_val, y_val, X_test, y_test = ...\n",
        "\n"
      ],
      "metadata": {
        "id": "fbt_iV1vyKgo"
      },
      "execution_count": null,
      "outputs": []
    },
    {
      "cell_type": "code",
      "source": [
        "y_train = tf.one_hot(y_train, 18)\n",
        "y_test = tf.one_hot(y_test, 18)\n",
        "y_train[0]"
      ],
      "metadata": {
        "colab": {
          "base_uri": "https://localhost:8080/"
        },
        "id": "uCB-LiU1t_Gi",
        "outputId": "7e5b1c61-2163-4777-8a76-0c32306c8a02"
      },
      "execution_count": null,
      "outputs": [
        {
          "output_type": "execute_result",
          "data": {
            "text/plain": [
              "<tf.Tensor: shape=(18,), dtype=float32, numpy=\n",
              "array([0., 0., 0., 0., 0., 0., 0., 0., 0., 0., 0., 0., 0., 0., 1., 0., 0.,\n",
              "       0.], dtype=float32)>"
            ]
          },
          "metadata": {},
          "execution_count": 75
        }
      ]
    },
    {
      "cell_type": "code",
      "execution_count": null,
      "metadata": {
        "colab": {
          "base_uri": "https://localhost:8080/"
        },
        "id": "elB5xcTCwfCm",
        "outputId": "ef16b502-ac36-4937-9c48-73f1a36f958c"
      },
      "outputs": [
        {
          "output_type": "stream",
          "name": "stdout",
          "text": [
            "Epoch 1/50\n",
            "10404/10404 [==============================] - 60s 5ms/step - loss: 0.6529 - accuracy: 0.7507 - val_loss: 0.3120 - val_accuracy: 0.8921\n",
            "Epoch 2/50\n",
            "10404/10404 [==============================] - 56s 5ms/step - loss: 0.3841 - accuracy: 0.8614 - val_loss: 0.1973 - val_accuracy: 0.9400\n",
            "Epoch 3/50\n",
            "10404/10404 [==============================] - 66s 6ms/step - loss: 0.3254 - accuracy: 0.8887 - val_loss: 0.2424 - val_accuracy: 0.9254\n",
            "Epoch 4/50\n",
            "10404/10404 [==============================] - 57s 5ms/step - loss: 0.2983 - accuracy: 0.8983 - val_loss: 0.1812 - val_accuracy: 0.9358\n",
            "Epoch 5/50\n",
            "10404/10404 [==============================] - 56s 5ms/step - loss: 0.2757 - accuracy: 0.9067 - val_loss: 0.1679 - val_accuracy: 0.9381\n",
            "Epoch 6/50\n",
            "10404/10404 [==============================] - 56s 5ms/step - loss: 0.2574 - accuracy: 0.9144 - val_loss: 0.1047 - val_accuracy: 0.9734\n",
            "Epoch 7/50\n",
            "10404/10404 [==============================] - 55s 5ms/step - loss: 0.2380 - accuracy: 0.9225 - val_loss: 0.1712 - val_accuracy: 0.9413\n",
            "Epoch 8/50\n",
            "10404/10404 [==============================] - 57s 5ms/step - loss: 0.2263 - accuracy: 0.9267 - val_loss: 0.0780 - val_accuracy: 0.9819\n",
            "Epoch 9/50\n",
            "10404/10404 [==============================] - 56s 5ms/step - loss: 0.2159 - accuracy: 0.9305 - val_loss: 0.0842 - val_accuracy: 0.9806\n",
            "Epoch 10/50\n",
            "10404/10404 [==============================] - 57s 5ms/step - loss: 0.2169 - accuracy: 0.9301 - val_loss: 0.2093 - val_accuracy: 0.9262\n",
            "Epoch 11/50\n",
            "10404/10404 [==============================] - 57s 5ms/step - loss: 0.2089 - accuracy: 0.9329 - val_loss: 0.0758 - val_accuracy: 0.9809\n",
            "Epoch 12/50\n",
            "10404/10404 [==============================] - 56s 5ms/step - loss: 0.1962 - accuracy: 0.9377 - val_loss: 0.1248 - val_accuracy: 0.9584\n",
            "Epoch 13/50\n",
            "10404/10404 [==============================] - 56s 5ms/step - loss: 0.1987 - accuracy: 0.9370 - val_loss: 0.0863 - val_accuracy: 0.9762\n",
            "Epoch 14/50\n",
            "10404/10404 [==============================] - 57s 5ms/step - loss: 0.1908 - accuracy: 0.9397 - val_loss: 0.0936 - val_accuracy: 0.9767\n",
            "Epoch 15/50\n",
            "10404/10404 [==============================] - 57s 5ms/step - loss: 0.1922 - accuracy: 0.9399 - val_loss: 0.0637 - val_accuracy: 0.9840\n",
            "Epoch 16/50\n",
            "10404/10404 [==============================] - 57s 5ms/step - loss: 0.1895 - accuracy: 0.9417 - val_loss: 0.1128 - val_accuracy: 0.9674\n",
            "Epoch 17/50\n",
            "10404/10404 [==============================] - 56s 5ms/step - loss: 0.1954 - accuracy: 0.9383 - val_loss: 0.0891 - val_accuracy: 0.9757\n",
            "Epoch 18/50\n",
            "10404/10404 [==============================] - 56s 5ms/step - loss: 0.1883 - accuracy: 0.9408 - val_loss: 0.1877 - val_accuracy: 0.9415\n",
            "Epoch 19/50\n",
            "10404/10404 [==============================] - 57s 5ms/step - loss: 0.1812 - accuracy: 0.9446 - val_loss: 0.0681 - val_accuracy: 0.9822\n",
            "Epoch 20/50\n",
            "10404/10404 [==============================] - 56s 5ms/step - loss: 0.1722 - accuracy: 0.9479 - val_loss: 0.0673 - val_accuracy: 0.9842\n",
            "Epoch 21/50\n",
            "10404/10404 [==============================] - 56s 5ms/step - loss: 0.1800 - accuracy: 0.9446 - val_loss: 0.0749 - val_accuracy: 0.9816\n",
            "Epoch 22/50\n",
            "10404/10404 [==============================] - 57s 5ms/step - loss: 0.1806 - accuracy: 0.9447 - val_loss: 0.1065 - val_accuracy: 0.9675\n",
            "Epoch 23/50\n",
            "10404/10404 [==============================] - 57s 5ms/step - loss: 0.1940 - accuracy: 0.9391 - val_loss: 0.0991 - val_accuracy: 0.9728\n",
            "Epoch 24/50\n",
            "10404/10404 [==============================] - 56s 5ms/step - loss: 0.1805 - accuracy: 0.9442 - val_loss: 0.0847 - val_accuracy: 0.9770\n",
            "Epoch 25/50\n",
            "10404/10404 [==============================] - 56s 5ms/step - loss: 0.1766 - accuracy: 0.9460 - val_loss: 0.0945 - val_accuracy: 0.9762\n",
            "Epoch 26/50\n",
            "10404/10404 [==============================] - 56s 5ms/step - loss: 0.1773 - accuracy: 0.9471 - val_loss: 0.0790 - val_accuracy: 0.9782\n",
            "Epoch 27/50\n",
            "10404/10404 [==============================] - 56s 5ms/step - loss: 0.1646 - accuracy: 0.9513 - val_loss: 0.0822 - val_accuracy: 0.9760\n",
            "Epoch 28/50\n",
            "10404/10404 [==============================] - 56s 5ms/step - loss: 0.1730 - accuracy: 0.9486 - val_loss: 0.0808 - val_accuracy: 0.9783\n",
            "Epoch 29/50\n",
            "10404/10404 [==============================] - 56s 5ms/step - loss: 0.1699 - accuracy: 0.9500 - val_loss: 0.0846 - val_accuracy: 0.9762\n",
            "Epoch 30/50\n",
            "10404/10404 [==============================] - 66s 6ms/step - loss: 0.1720 - accuracy: 0.9488 - val_loss: 0.0687 - val_accuracy: 0.9834\n",
            "Epoch 31/50\n",
            "10404/10404 [==============================] - 56s 5ms/step - loss: 0.1710 - accuracy: 0.9494 - val_loss: 0.0970 - val_accuracy: 0.9711\n",
            "Epoch 32/50\n",
            "10404/10404 [==============================] - 66s 6ms/step - loss: 0.1834 - accuracy: 0.9450 - val_loss: 0.0875 - val_accuracy: 0.9748\n",
            "Epoch 33/50\n",
            "10404/10404 [==============================] - 56s 5ms/step - loss: 0.1882 - accuracy: 0.9432 - val_loss: 0.0847 - val_accuracy: 0.9773\n",
            "Epoch 34/50\n",
            "10404/10404 [==============================] - 56s 5ms/step - loss: 0.1915 - accuracy: 0.9421 - val_loss: 0.0687 - val_accuracy: 0.9818\n",
            "Epoch 35/50\n",
            "10404/10404 [==============================] - 56s 5ms/step - loss: 0.1935 - accuracy: 0.9417 - val_loss: 0.1130 - val_accuracy: 0.9620\n",
            "Epoch 36/50\n",
            "10404/10404 [==============================] - 56s 5ms/step - loss: 0.1896 - accuracy: 0.9433 - val_loss: 0.0872 - val_accuracy: 0.9771\n",
            "Epoch 37/50\n",
            "10404/10404 [==============================] - 56s 5ms/step - loss: 0.1883 - accuracy: 0.9443 - val_loss: 0.0927 - val_accuracy: 0.9760\n",
            "Epoch 38/50\n",
            "10404/10404 [==============================] - 56s 5ms/step - loss: 0.1808 - accuracy: 0.9465 - val_loss: 0.1065 - val_accuracy: 0.9708\n",
            "Epoch 39/50\n",
            "10404/10404 [==============================] - 56s 5ms/step - loss: 0.1862 - accuracy: 0.9453 - val_loss: 0.0910 - val_accuracy: 0.9770\n",
            "Epoch 40/50\n",
            "10404/10404 [==============================] - 57s 5ms/step - loss: 0.1760 - accuracy: 0.9488 - val_loss: 0.1019 - val_accuracy: 0.9725\n",
            "Epoch 41/50\n",
            "10404/10404 [==============================] - 56s 5ms/step - loss: 0.1677 - accuracy: 0.9516 - val_loss: 0.0965 - val_accuracy: 0.9680\n",
            "Epoch 42/50\n",
            "10404/10404 [==============================] - 56s 5ms/step - loss: 0.1754 - accuracy: 0.9494 - val_loss: 0.0948 - val_accuracy: 0.9730\n",
            "Epoch 43/50\n",
            "10404/10404 [==============================] - 57s 5ms/step - loss: 0.1743 - accuracy: 0.9493 - val_loss: 0.0556 - val_accuracy: 0.9863\n",
            "Epoch 44/50\n",
            "10404/10404 [==============================] - 57s 6ms/step - loss: 0.1927 - accuracy: 0.9429 - val_loss: 0.0854 - val_accuracy: 0.9759\n",
            "Epoch 45/50\n",
            "10404/10404 [==============================] - 57s 5ms/step - loss: 0.1809 - accuracy: 0.9474 - val_loss: 0.0726 - val_accuracy: 0.9794\n",
            "Epoch 46/50\n",
            "10404/10404 [==============================] - 57s 5ms/step - loss: 0.1690 - accuracy: 0.9511 - val_loss: 0.1132 - val_accuracy: 0.9624\n",
            "Epoch 47/50\n",
            "10404/10404 [==============================] - 56s 5ms/step - loss: 0.1687 - accuracy: 0.9509 - val_loss: 0.1211 - val_accuracy: 0.9643\n",
            "Epoch 48/50\n",
            "10404/10404 [==============================] - 55s 5ms/step - loss: 0.1720 - accuracy: 0.9493 - val_loss: 0.0771 - val_accuracy: 0.9800\n",
            "Epoch 49/50\n",
            "10404/10404 [==============================] - 58s 6ms/step - loss: 0.1801 - accuracy: 0.9464 - val_loss: 0.0825 - val_accuracy: 0.9757\n",
            "Epoch 50/50\n",
            "10404/10404 [==============================] - 68s 7ms/step - loss: 0.1682 - accuracy: 0.9506 - val_loss: 0.0734 - val_accuracy: 0.9822\n"
          ]
        },
        {
          "output_type": "execute_result",
          "data": {
            "text/plain": [
              "<keras.callbacks.History at 0x7f798d42f6a0>"
            ]
          },
          "metadata": {},
          "execution_count": 76
        }
      ],
      "source": [
        "model.fit(X_train, y_train, epochs=50, batch_size=32, validation_data=(X_test, y_test))"
      ]
    },
    {
      "cell_type": "code",
      "source": [
        "import matplotlib.pyplot as plt # for plotting"
      ],
      "metadata": {
        "id": "NyvtBOWh73WC"
      },
      "execution_count": null,
      "outputs": []
    },
    {
      "cell_type": "code",
      "source": [
        "plt.plot(model.history.history['loss'])\n",
        "plt.plot(model.history.history['val_loss'])\n",
        "plt.title('Model Loss')\n",
        "plt.ylabel('Loss')\n",
        "plt.xlabel('Epochs')\n",
        "plt.legend(['train', 'test'])\n",
        "plt.show()"
      ],
      "metadata": {
        "colab": {
          "base_uri": "https://localhost:8080/",
          "height": 472
        },
        "id": "dRC6qeLy7rvM",
        "outputId": "4f3d83c7-a0d9-4f6c-8f2e-32cf906d8b4b"
      },
      "execution_count": null,
      "outputs": [
        {
          "output_type": "display_data",
          "data": {
            "text/plain": [
              "<Figure size 640x480 with 1 Axes>"
            ],
            "image/png": "[encoded data removed]"
          },
          "metadata": {}
        }
      ]
    },
    {
      "cell_type": "code",
      "source": [
        "plt.plot(model.history.history['accuracy'])\n",
        "plt.plot(model.history.history['val_accuracy'])\n",
        "plt.title('Model Accuracy')\n",
        "plt.ylabel('Accuracy')\n",
        "plt.xlabel('Epochs')\n",
        "plt.legend(['train', 'test'])\n",
        "plt.show()"
      ],
      "metadata": {
        "colab": {
          "base_uri": "https://localhost:8080/",
          "height": 472
        },
        "id": "dGH4UUfl7t0V",
        "outputId": "df2d7ae5-e7c8-4157-b78c-fb33bed8925b"
      },
      "execution_count": null,
      "outputs": [
        {
          "output_type": "display_data",
          "data": {
            "text/plain": [
              "<Figure size 640x480 with 1 Axes>"
            ],
            "image/png": "[encoded data removed]"
          },
          "metadata": {}
        }
      ]
    },
    {
      "cell_type": "code",
      "source": [
        "test_path = '/content/drive/MyDrive/archive_json/archive_json/ann_test'"
      ],
      "metadata": {
        "id": "i5892Zgu9bu7"
      },
      "execution_count": null,
      "outputs": []
    },
    {
      "cell_type": "code",
      "source": [
        "labels_change = {\n",
        "    'call': 0,\n",
        "    'dislike': 1,\n",
        "    'fist': 2,\n",
        "    'four': 3,\n",
        "    'like': 4,\n",
        "    'mute': 5,\n",
        "    'ok': 6,\n",
        "    'one': 7,\n",
        "    'plam': 8,\n",
        "    'peace_inverted': 9,\n",
        "    'peace': 10,\n",
        "    'rock': 11,\n",
        "    'stop_inverted': 12,\n",
        "    'stop': 13,\n",
        "    'three': 14,\n",
        "    'three2': 15,\n",
        "    'two_up_inverted': 16,\n",
        "    'two_up': 17\n",
        "}\n",
        "labels_list = [0, 1, 2, 3, 4, 5, 6, 7, 8, 9, 10, 11, 12, 13, 14, 15, 16, 17]\n",
        "change_lr = {\n",
        "    'right': 1,\n",
        "    'left': 2\n",
        "}\n",
        "lr_list = [1, 2]"
      ],
      "metadata": {
        "id": "qdv3idaK9oGD"
      },
      "execution_count": null,
      "outputs": []
    },
    {
      "cell_type": "code",
      "source": [
        "datas_test = []\n",
        "print('check')\n",
        "for path in os.listdir(data_path):\n",
        "    file = os.path.join(data_path, path)\n",
        "    with open(file, 'r') as f:\n",
        "        data = json.load(f)\n",
        "        for key in data.keys():\n",
        "            for i in data[key]['labels']:\n",
        "                if i!='no_gesture':\n",
        "                    index = data[key]['labels'].index(i)\n",
        "                    label = labels_change.get(data[key]['labels'][index])\n",
        "                    lr = change_lr.get(data[key]['leading_hand'])\n",
        "                    if len(data[key]['landmarks'][index]) == 21 and label in labels_list and \\\n",
        "                        len(data[key]['bboxes'][index]) ==4 and lr in lr_list:\n",
        "                        for check in data[key]['landmarks'][index]:\n",
        "                            check[0] = float(check[0])\n",
        "                            check[1] = float(check[1])\n",
        "                        bboxes = [float(i) for i in data[key]['bboxes'][index]]\n",
        "                        _data = data[key]['landmarks'][index]\n",
        "                        _data.append([float(data[key]['leading_conf']), float(lr)])\n",
        "                        _data.append(bboxes[:2])\n",
        "                        _data.append(bboxes[2:])\n",
        "                        datas_test.append([_data, label])"
      ],
      "metadata": {
        "colab": {
          "base_uri": "https://localhost:8080/"
        },
        "id": "UoA9qcBj9r4i",
        "outputId": "b0aee0f2-c1a6-485a-e437-706e30090585"
      },
      "execution_count": null,
      "outputs": [
        {
          "output_type": "stream",
          "name": "stdout",
          "text": [
            "check\n"
          ]
        }
      ]
    },
    {
      "cell_type": "code",
      "source": [
        "inputs_test = []\n",
        "labels_test = []\n",
        "for x, y in datas_test:\n",
        "    inputs_test.append(np.array([np.array(i, dtype=np.float32) for i in x]))\n",
        "    labels_test.append(y)\n",
        "\n",
        "inputs_test = np.array(inputs_test)\n",
        "# labels_test = np.array(labels_test)"
      ],
      "metadata": {
        "id": "eNU99WaeAhYg"
      },
      "execution_count": null,
      "outputs": []
    },
    {
      "cell_type": "code",
      "source": [
        "inputs_test[0]"
      ],
      "metadata": {
        "colab": {
          "base_uri": "https://localhost:8080/"
        },
        "id": "xRn0SyqOIw3I",
        "outputId": "a014cebd-8dc5-4227-fd72-7cf1d4d24f6d"
      },
      "execution_count": null,
      "outputs": [
        {
          "output_type": "execute_result",
          "data": {
            "text/plain": [
              "array([[0.27168712, 0.46487904],\n",
              "       [0.26852092, 0.42164376],\n",
              "       [0.28133026, 0.37492514],\n",
              "       [0.2878232 , 0.33870202],\n",
              "       [0.280266  , 0.31127104],\n",
              "       [0.33457395, 0.36746413],\n",
              "       [0.3947507 , 0.37570223],\n",
              "       [0.37914336, 0.39035052],\n",
              "       [0.35594124, 0.39425883],\n",
              "       [0.34898886, 0.39015397],\n",
              "       [0.4029723 , 0.39766818],\n",
              "       [0.38620234, 0.410297  ],\n",
              "       [0.36642793, 0.4138897 ],\n",
              "       [0.3605491 , 0.41641846],\n",
              "       [0.41133654, 0.41844925],\n",
              "       [0.39674902, 0.4289947 ],\n",
              "       [0.37722492, 0.43216828],\n",
              "       [0.36968553, 0.4436062 ],\n",
              "       [0.41880187, 0.4350332 ],\n",
              "       [0.4491082 , 0.43393436],\n",
              "       [0.47609872, 0.43037668],\n",
              "       [1.        , 1.        ],\n",
              "       [0.23925175, 0.28595302],\n",
              "       [0.25055143, 0.20777626]], dtype=float32)"
            ]
          },
          "metadata": {},
          "execution_count": 84
        }
      ]
    },
    {
      "cell_type": "code",
      "source": [
        "\n",
        "predictions = model.predict(np.reshape(inputs_test, (-1, 24, 2)))\n",
        "# for test, label in zip(inputs_test, labels_test):\n",
        "#   predictions = model.predict(np.reshape(test, (-1, 24, 2)))\n",
        "#   if np.argmax(predictions)!=label:\n",
        "#     d+=1\n",
        "#   print(np.argmax(predictions), label)\n",
        "\n",
        "print(predictions)"
      ],
      "metadata": {
        "colab": {
          "base_uri": "https://localhost:8080/"
        },
        "id": "wtRl5OiVDUoI",
        "outputId": "4af6088d-cbd6-468a-bc0a-af29ea2ff277"
      },
      "execution_count": null,
      "outputs": [
        {
          "output_type": "stream",
          "name": "stdout",
          "text": [
            "14863/14863 [==============================] - 28s 2ms/step\n",
            "[[9.9978369e-01 1.7163428e-09 1.3554472e-06 ... 9.5587194e-10\n",
            "  1.6006865e-09 9.6682387e-14]\n",
            " [9.9896646e-01 5.8662970e-08 5.8652295e-06 ... 7.0875288e-09\n",
            "  5.8935612e-08 4.9492160e-12]\n",
            " [9.4344676e-01 4.6068953e-06 8.8087681e-06 ... 8.1512226e-08\n",
            "  3.1434143e-07 1.1894646e-10]\n",
            " ...\n",
            " [1.2155611e-08 1.0324636e-07 1.9333580e-11 ... 3.6949131e-03\n",
            "  8.7966049e-01 8.5733654e-03]\n",
            " [5.9936347e-08 5.2388611e-08 5.1219944e-12 ... 1.6754343e-04\n",
            "  9.5826042e-01 1.0604162e-03]\n",
            " [2.8176873e-06 2.5020909e-06 6.6380522e-08 ... 3.2945198e-05\n",
            "  9.5211625e-01 3.6853901e-04]]\n"
          ]
        }
      ]
    },
    {
      "cell_type": "code",
      "source": [
        "d = 0\n",
        "\n",
        "for i in range(len(predictions)):\n",
        "  check = np.argmax(predictions[i])\n",
        "  if check == labels_test[i]:\n",
        "    if predictions[i][check] > 0.8:\n",
        "      d+=1\n",
        "      # print(np.argmax(predictions[i]), labels_test[i], predictions[i][check])\n",
        "print(d)\n",
        "print(len(predictions))"
      ],
      "metadata": {
        "colab": {
          "base_uri": "https://localhost:8080/"
        },
        "id": "kbbLXjrbPFq5",
        "outputId": "895561b8-f530-4339-bab5-f5d278d7335e"
      },
      "execution_count": null,
      "outputs": [
        {
          "output_type": "stream",
          "name": "stdout",
          "text": [
            "454578\n",
            "475600\n"
          ]
        }
      ]
    },
    {
      "cell_type": "code",
      "source": [
        "model.save('/content/drive/MyDrive/archive_json/hand_modle.h5')\n",
        "model.save_weights('/content/drive/MyDrive/archive_json/hand_modle_weights.h5')"
      ],
      "metadata": {
        "id": "f_TIoHnJQz-C"
      },
      "execution_count": null,
      "outputs": []
    },
    {
      "cell_type": "code",
      "source": [
        "import tensorflow as tf\n",
        "import numpy as np"
      ],
      "metadata": {
        "id": "CDLiLLJgAWbN"
      },
      "execution_count": null,
      "outputs": []
    },
    {
      "cell_type": "code",
      "source": [
        "# Load the trained model\n",
        "model = tf.keras.models.load_model('/content/drive/MyDrive/archive_json/hand_modle.h5')\n",
        "model.load_weights('/content/drive/MyDrive/archive_json/hand_modle_weights.h5')\n",
        "tf.saved_model.save(model, '/content/drive/MyDrive/archive_json/hand_saved_model')"
      ],
      "metadata": {
        "colab": {
          "base_uri": "https://localhost:8080/"
        },
        "id": "CktQrQQfAljz",
        "outputId": "8826cc22-b91a-4f13-a8b8-7658feb594ba"
      },
      "execution_count": null,
      "outputs": [
        {
          "output_type": "stream",
          "name": "stderr",
          "text": [
            "WARNING:absl:Found untraced functions such as _update_step_xla while saving (showing 1 of 1). These functions will not be directly callable after loading.\n"
          ]
        }
      ]
    },
    {
      "cell_type": "code",
      "source": [
        "data = [\n",
        "            [\n",
        "                [\n",
        "                    0.4026666978213241,\n",
        "                    0.3984311500745974\n",
        "                ],\n",
        "                [\n",
        "                    0.4192076711207422,\n",
        "                    0.37353826805627627\n",
        "                ],\n",
        "                [\n",
        "                    0.44633790528452344,\n",
        "                    0.35680122632754485\n",
        "                ],\n",
        "                [\n",
        "                    0.46731198616877123,\n",
        "                    0.34420815195373317\n",
        "                ],\n",
        "                [\n",
        "                    0.47285176516290683,\n",
        "                    0.3307505228833379\n",
        "                ],\n",
        "                [\n",
        "                    0.4764688608100788,\n",
        "                    0.36987351863879375\n",
        "                ],\n",
        "                [\n",
        "                    0.49235649381989877,\n",
        "                    0.3810291481789606\n",
        "                ],\n",
        "                [\n",
        "                    0.47991574830869327,\n",
        "                    0.38355750145960327\n",
        "                ],\n",
        "                [\n",
        "                    0.4675613541095248,\n",
        "                    0.38127575295733984\n",
        "                ],\n",
        "                [\n",
        "                    0.47692134274663184,\n",
        "                    0.38645534892616357\n",
        "                ],\n",
        "                [\n",
        "                    0.48947415389727567,\n",
        "                    0.39534107208852803\n",
        "                ],\n",
        "                [\n",
        "                    0.47659621174630057,\n",
        "                    0.39601692900021074\n",
        "                ],\n",
        "                [\n",
        "                    0.4658551593930461,\n",
        "                    0.39476968460759576\n",
        "                ],\n",
        "                [\n",
        "                    0.4728566745030196,\n",
        "                    0.40291993223000305\n",
        "                ],\n",
        "                [\n",
        "                    0.4891204160394226,\n",
        "                    0.4097351644196717\n",
        "                ],\n",
        "                [\n",
        "                    0.477288667534959,\n",
        "                    0.40951953824082815\n",
        "                ],\n",
        "                [\n",
        "                    0.46594533202927907,\n",
        "                    0.4073765117679666\n",
        "                ],\n",
        "                [\n",
        "                    0.46496893062328915,\n",
        "                    0.4175145445677785\n",
        "                ],\n",
        "                [\n",
        "                    0.4896949149805074,\n",
        "                    0.4278665715225587\n",
        "                ],\n",
        "                [\n",
        "                    0.5034072857288067,\n",
        "                    0.4360884888763686\n",
        "                ],\n",
        "                [\n",
        "                    0.5164946046013466,\n",
        "                    0.44184308467165345\n",
        "                ],\n",
        "             [1.0, 1.0],\n",
        "             [\n",
        "                0.40016984,\n",
        "                0.3223251],\n",
        "             [\n",
        "                0.13044141,\n",
        "                0.12870407\n",
        "            ]\n",
        "            ]\n",
        "        \n",
        "]"
      ],
      "metadata": {
        "id": "k48th5uvA-DL"
      },
      "execution_count": null,
      "outputs": []
    },
    {
      "cell_type": "code",
      "source": [
        "inputs_test = []\n",
        "for x in data:\n",
        "    inputs_test.append(np.array([np.array(i, dtype=np.float32) for i in x]))\n",
        "\n",
        "inputs_test = np.array(inputs_test)\n",
        "inputs_test"
      ],
      "metadata": {
        "colab": {
          "base_uri": "https://localhost:8080/"
        },
        "id": "T59_IM9UB4ad",
        "outputId": "f9c7d75a-79b1-448f-d91d-2e4e5edb451d"
      },
      "execution_count": null,
      "outputs": [
        {
          "output_type": "execute_result",
          "data": {
            "text/plain": [
              "array([[[0.4026667 , 0.39843115],\n",
              "        [0.41920766, 0.37353826],\n",
              "        [0.4463379 , 0.3568012 ],\n",
              "        [0.46731198, 0.34420815],\n",
              "        [0.47285175, 0.33075052],\n",
              "        [0.47646886, 0.36987352],\n",
              "        [0.49235648, 0.38102916],\n",
              "        [0.47991574, 0.3835575 ],\n",
              "        [0.46756136, 0.38127574],\n",
              "        [0.47692135, 0.38645536],\n",
              "        [0.48947415, 0.39534107],\n",
              "        [0.4765962 , 0.39601693],\n",
              "        [0.46585515, 0.3947697 ],\n",
              "        [0.47285667, 0.40291992],\n",
              "        [0.48912042, 0.40973517],\n",
              "        [0.47728866, 0.40951952],\n",
              "        [0.46594533, 0.4073765 ],\n",
              "        [0.46496892, 0.41751453],\n",
              "        [0.48969492, 0.42786658],\n",
              "        [0.5034073 , 0.4360885 ],\n",
              "        [0.51649463, 0.4418431 ],\n",
              "        [1.        , 1.        ],\n",
              "        [0.40016985, 0.3223251 ],\n",
              "        [0.13044141, 0.12870407]]], dtype=float32)"
            ]
          },
          "metadata": {},
          "execution_count": 7
        }
      ]
    },
    {
      "cell_type": "code",
      "source": [
        "predictions = model.predict(np.reshape(inputs_test, (-1, 24, 2)))\n",
        "\n",
        "print(predictions)\n",
        "print(np.argmax(predictions))"
      ],
      "metadata": {
        "colab": {
          "base_uri": "https://localhost:8080/"
        },
        "id": "l-r_VG4HAsU7",
        "outputId": "28ef34f0-de25-42c7-f78d-a61b5d7bb57f"
      },
      "execution_count": null,
      "outputs": [
        {
          "output_type": "stream",
          "name": "stdout",
          "text": [
            "1/1 [==============================] - 3s 3s/step\n",
            "[[9.9547285e-01 6.3230131e-05 1.6375594e-06 2.2678565e-10 3.5640344e-03\n",
            "  6.7442679e-04 1.1381412e-08 1.4123937e-07 2.3740768e-08 4.6541591e-05\n",
            "  3.7455285e-07 3.5911907e-09 6.7920701e-05 9.1270804e-09 1.2998136e-07\n",
            "  1.9602346e-06 1.0474575e-04 1.8047889e-06]]\n",
            "0\n"
          ]
        }
      ]
    }
  ],
  "metadata": {
    "kernelspec": {
      "display_name": "hand_venv",
      "language": "python",
      "name": "python3"
    },
    "language_info": {
      "codemirror_mode": {
        "name": "ipython",
        "version": 3
      },
      "file_extension": ".py",
      "mimetype": "text/x-python",
      "name": "python",
      "nbconvert_exporter": "python",
      "pygments_lexer": "ipython3",
      "version": "3.10.6"
    },
    "orig_nbformat": 4,
    "colab": {
      "provenance": [],
      "toc_visible": true
    },
    "accelerator": "GPU",
    "gpuClass": "standard"
  },
  "nbformat": 4,
  "nbformat_minor": 0
}